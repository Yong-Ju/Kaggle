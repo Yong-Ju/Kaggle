{
 "cells": [
  {
   "cell_type": "code",
   "execution_count": 5,
   "metadata": {
    "collapsed": true
   },
   "outputs": [],
   "source": [
    "import pandas as pd\n",
    "import numpy as np\n",
    "import pickle"
   ]
  },
  {
   "cell_type": "code",
   "execution_count": 4,
   "metadata": {},
   "outputs": [],
   "source": [
    "train = pd.read_csv(\"./data/train.csv\")\n",
    "test = pd.read_csv(\"./data/test.csv\")"
   ]
  },
  {
   "cell_type": "code",
   "execution_count": 22,
   "metadata": {
    "collapsed": true
   },
   "outputs": [],
   "source": [
    "# Categorizing variables \n",
    "num_col = []\n",
    "cat_col = []\n",
    "\n",
    "for column in train.columns[~pd.Series(train.columns).isin(['Id', 'SalePrice'])]:\n",
    "    if type(train[column][0]) is not str:\n",
    "        num_col.append(column)\n",
    "    else:\n",
    "        cat_col.append(column)\n",
    "\n",
    "tmp = ['MSSubClass', 'Alley', 'FireplaceQu', 'PoolQC', 'Fence', 'MiscFeature'] # Handwork ! \n",
    "num_col = list(set(num_col) - set(tmp))\n",
    "cat_col += tmp"
   ]
  },
  {
   "cell_type": "code",
   "execution_count": 26,
   "metadata": {
    "collapsed": true
   },
   "outputs": [],
   "source": [
    "# Combining \n",
    "test['SalePrice'] = 0\n",
    "data = pd.concat([train,test], axis=0)"
   ]
  },
  {
   "cell_type": "markdown",
   "metadata": {},
   "source": [
    "### Preprocessing"
   ]
  },
  {
   "cell_type": "code",
   "execution_count": 31,
   "metadata": {
    "scrolled": true
   },
   "outputs": [],
   "source": [
    "# Factorizing\n",
    "for col in cat_col:\n",
    "    data[col] = pd.factorize(data[col])[0]"
   ]
  },
  {
   "cell_type": "code",
   "execution_count": 33,
   "metadata": {},
   "outputs": [],
   "source": [
    "# Handling NA's\n",
    "data = data.fillna(-99)"
   ]
  },
  {
   "cell_type": "markdown",
   "metadata": {},
   "source": [
    "### Save"
   ]
  },
  {
   "cell_type": "code",
   "execution_count": 38,
   "metadata": {
    "scrolled": true
   },
   "outputs": [],
   "source": [
    "# Dividing\n",
    "train_master = data[data['Id']<=1460]\n",
    "test_master = data[data['Id'] >1460]\n",
    "train_master = train_master[train_master.columns[train_master.columns != 'Id']]\n",
    "test_master = test_master[test_master.columns[test_master.columns != 'Id']]\n",
    "\n",
    "# Saving\n",
    "pickle.dump(obj = train_master, file = open(\"./data/train_master.pickle\", \"wb\"))\n",
    "pickle.dump(obj = test_master, file = open(\"./data/test_master.pickle\", \"wb\"))"
   ]
  }
 ],
 "metadata": {
  "anaconda-cloud": {},
  "kernelspec": {
   "display_name": "Python [default]",
   "language": "python",
   "name": "python3"
  },
  "language_info": {
   "codemirror_mode": {
    "name": "ipython",
    "version": 3
   },
   "file_extension": ".py",
   "mimetype": "text/x-python",
   "name": "python",
   "nbconvert_exporter": "python",
   "pygments_lexer": "ipython3",
   "version": "3.6.3"
  }
 },
 "nbformat": 4,
 "nbformat_minor": 2
}
